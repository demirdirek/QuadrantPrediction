{
 "cells": [
  {
   "cell_type": "markdown",
   "id": "9c74bbd8-d871-46ae-a992-2240b348bbb8",
   "metadata": {},
   "source": [
    "# Determining the Quadrant of an Angle\n",
    "\n",
    "<div class=\"alert alert-block alert-info\">\n",
    "    Keep in mind that this is a very simple problem, and using machine learning for it might be overkill. However, it serves as a basic example.\r\n",
    "</div>"
   ]
  },
  {
   "cell_type": "code",
   "execution_count": 49,
   "id": "2f3aa172-f958-4fd7-8f5e-76de9985acdc",
   "metadata": {},
   "outputs": [],
   "source": [
    "import numpy as np\n",
    "from sklearn.model_selection import train_test_split\n",
    "from tensorflow.keras.models import Sequential\n",
    "from tensorflow.keras.layers import Dense\n",
    "from tensorflow.keras.utils import to_categorical"
   ]
  },
  {
   "cell_type": "code",
   "execution_count": 50,
   "id": "6e78aaad-fb0e-4cc3-a88f-0c6dd10867ae",
   "metadata": {},
   "outputs": [],
   "source": [
    "# Generate some training data\n",
    "angles = np.random.uniform(0, 360, 1000)  # Random angles between 0 and 360 degrees\n",
    "quadrants = (np.floor(angles / 90) % 4).astype(int)  # Determine the quadrant"
   ]
  },
  {
   "cell_type": "code",
   "execution_count": 51,
   "id": "1051c621-f4d8-410c-94e9-12309935f561",
   "metadata": {},
   "outputs": [],
   "source": [
    "# One-hot encode the quadrants\n",
    "quadrants_one_hot = to_categorical(quadrants, num_classes=4)"
   ]
  },
  {
   "cell_type": "code",
   "execution_count": 52,
   "id": "53c553d6-4e36-41dc-bebc-4f98425515dd",
   "metadata": {},
   "outputs": [],
   "source": [
    "# Reshape the data for training\n",
    "X = angles.reshape(-1, 1)\n",
    "y = quadrants_one_hot"
   ]
  },
  {
   "cell_type": "code",
   "execution_count": 53,
   "id": "480b3733-9e14-4170-bd6c-acab7fc54f0a",
   "metadata": {},
   "outputs": [],
   "source": [
    "# Split the data into training and testing sets\n",
    "X_train, X_test, y_train, y_test = train_test_split(X, y, test_size=0.2, random_state=42)"
   ]
  },
  {
   "cell_type": "code",
   "execution_count": 54,
   "id": "d16a547c-b761-4d58-b9de-9c8509c6427a",
   "metadata": {},
   "outputs": [],
   "source": [
    "# Create a simple neural network model\n",
    "model = Sequential()\n",
    "model.add(Dense(10, input_dim=1, activation='relu'))\n",
    "model.add(Dense(4, activation='softmax'))"
   ]
  },
  {
   "cell_type": "code",
   "execution_count": 55,
   "id": "0f46cb08-ab6d-4404-a9d8-87cb77f6c2d1",
   "metadata": {},
   "outputs": [],
   "source": [
    "# Compile the model\n",
    "model.compile(loss='categorical_crossentropy', optimizer='adam', metrics=['accuracy'])"
   ]
  },
  {
   "cell_type": "code",
   "execution_count": 56,
   "id": "5396c5de-4de8-4fa1-bd2e-551a52841cb2",
   "metadata": {},
   "outputs": [
    {
     "name": "stdout",
     "output_type": "stream",
     "text": [
      "Epoch 1/50\n",
      "25/25 [==============================] - 1s 24ms/step - loss: 42.6107 - accuracy: 0.2587 - val_loss: 38.4822 - val_accuracy: 0.2600\n",
      "Epoch 2/50\n",
      "25/25 [==============================] - 0s 8ms/step - loss: 31.6244 - accuracy: 0.2587 - val_loss: 27.3336 - val_accuracy: 0.2600\n",
      "Epoch 3/50\n",
      "25/25 [==============================] - 0s 9ms/step - loss: 24.5594 - accuracy: 0.2175 - val_loss: 22.9862 - val_accuracy: 0.2600\n",
      "Epoch 4/50\n",
      "25/25 [==============================] - 0s 8ms/step - loss: 20.4703 - accuracy: 0.2188 - val_loss: 19.2504 - val_accuracy: 0.2800\n",
      "Epoch 5/50\n",
      "25/25 [==============================] - 0s 8ms/step - loss: 17.1049 - accuracy: 0.2113 - val_loss: 15.9939 - val_accuracy: 0.2350\n",
      "Epoch 6/50\n",
      "25/25 [==============================] - 0s 8ms/step - loss: 14.1034 - accuracy: 0.2975 - val_loss: 12.9922 - val_accuracy: 0.2800\n",
      "Epoch 7/50\n",
      "25/25 [==============================] - 0s 10ms/step - loss: 11.3188 - accuracy: 0.2475 - val_loss: 10.3728 - val_accuracy: 0.3000\n",
      "Epoch 8/50\n",
      "25/25 [==============================] - 0s 10ms/step - loss: 8.8796 - accuracy: 0.3150 - val_loss: 7.8375 - val_accuracy: 0.2900\n",
      "Epoch 9/50\n",
      "25/25 [==============================] - 0s 10ms/step - loss: 6.5508 - accuracy: 0.2988 - val_loss: 5.6032 - val_accuracy: 0.2350\n",
      "Epoch 10/50\n",
      "25/25 [==============================] - 0s 8ms/step - loss: 4.4389 - accuracy: 0.2800 - val_loss: 3.5247 - val_accuracy: 0.3250\n",
      "Epoch 11/50\n",
      "25/25 [==============================] - 0s 8ms/step - loss: 2.5155 - accuracy: 0.2738 - val_loss: 1.6517 - val_accuracy: 0.2600\n",
      "Epoch 12/50\n",
      "25/25 [==============================] - 0s 8ms/step - loss: 1.3429 - accuracy: 0.2375 - val_loss: 1.2607 - val_accuracy: 0.2800\n",
      "Epoch 13/50\n",
      "25/25 [==============================] - 0s 8ms/step - loss: 1.2649 - accuracy: 0.2738 - val_loss: 1.2368 - val_accuracy: 0.2900\n",
      "Epoch 14/50\n",
      "25/25 [==============================] - 0s 8ms/step - loss: 1.2477 - accuracy: 0.2850 - val_loss: 1.2323 - val_accuracy: 0.2950\n",
      "Epoch 15/50\n",
      "25/25 [==============================] - 0s 7ms/step - loss: 1.2408 - accuracy: 0.2962 - val_loss: 1.2245 - val_accuracy: 0.2950\n",
      "Epoch 16/50\n",
      "25/25 [==============================] - 0s 8ms/step - loss: 1.2360 - accuracy: 0.3050 - val_loss: 1.2252 - val_accuracy: 0.3100\n",
      "Epoch 17/50\n",
      "25/25 [==============================] - 0s 7ms/step - loss: 1.2339 - accuracy: 0.3137 - val_loss: 1.2147 - val_accuracy: 0.3100\n",
      "Epoch 18/50\n",
      "25/25 [==============================] - 0s 8ms/step - loss: 1.2238 - accuracy: 0.3200 - val_loss: 1.2059 - val_accuracy: 0.3200\n",
      "Epoch 19/50\n",
      "25/25 [==============================] - 0s 7ms/step - loss: 1.2138 - accuracy: 0.3313 - val_loss: 1.1993 - val_accuracy: 0.3250\n",
      "Epoch 20/50\n",
      "25/25 [==============================] - 0s 8ms/step - loss: 1.2100 - accuracy: 0.3388 - val_loss: 1.1932 - val_accuracy: 0.3400\n",
      "Epoch 21/50\n",
      "25/25 [==============================] - 0s 7ms/step - loss: 1.2015 - accuracy: 0.3487 - val_loss: 1.1885 - val_accuracy: 0.3450\n",
      "Epoch 22/50\n",
      "25/25 [==============================] - 0s 8ms/step - loss: 1.1930 - accuracy: 0.3575 - val_loss: 1.1822 - val_accuracy: 0.3600\n",
      "Epoch 23/50\n",
      "25/25 [==============================] - 0s 8ms/step - loss: 1.1882 - accuracy: 0.3700 - val_loss: 1.1768 - val_accuracy: 0.3700\n",
      "Epoch 24/50\n",
      "25/25 [==============================] - 0s 9ms/step - loss: 1.1770 - accuracy: 0.4000 - val_loss: 1.1598 - val_accuracy: 0.3800\n",
      "Epoch 25/50\n",
      "25/25 [==============================] - 0s 8ms/step - loss: 1.1724 - accuracy: 0.3925 - val_loss: 1.1532 - val_accuracy: 0.4050\n",
      "Epoch 26/50\n",
      "25/25 [==============================] - 0s 8ms/step - loss: 1.1577 - accuracy: 0.4238 - val_loss: 1.1484 - val_accuracy: 0.4150\n",
      "Epoch 27/50\n",
      "25/25 [==============================] - 0s 8ms/step - loss: 1.1439 - accuracy: 0.4225 - val_loss: 1.1467 - val_accuracy: 0.4450\n",
      "Epoch 28/50\n",
      "25/25 [==============================] - 0s 8ms/step - loss: 1.1386 - accuracy: 0.4313 - val_loss: 1.1311 - val_accuracy: 0.4450\n",
      "Epoch 29/50\n",
      "25/25 [==============================] - 0s 8ms/step - loss: 1.1340 - accuracy: 0.4450 - val_loss: 1.1245 - val_accuracy: 0.4250\n",
      "Epoch 30/50\n",
      "25/25 [==============================] - 0s 7ms/step - loss: 1.1221 - accuracy: 0.4512 - val_loss: 1.1153 - val_accuracy: 0.4450\n",
      "Epoch 31/50\n",
      "25/25 [==============================] - 0s 8ms/step - loss: 1.1137 - accuracy: 0.4675 - val_loss: 1.1041 - val_accuracy: 0.4450\n",
      "Epoch 32/50\n",
      "25/25 [==============================] - 0s 8ms/step - loss: 1.1068 - accuracy: 0.4712 - val_loss: 1.1074 - val_accuracy: 0.4500\n",
      "Epoch 33/50\n",
      "25/25 [==============================] - 0s 8ms/step - loss: 1.1015 - accuracy: 0.4750 - val_loss: 1.0920 - val_accuracy: 0.4650\n",
      "Epoch 34/50\n",
      "25/25 [==============================] - 0s 8ms/step - loss: 1.0860 - accuracy: 0.4875 - val_loss: 1.0812 - val_accuracy: 0.4550\n",
      "Epoch 35/50\n",
      "25/25 [==============================] - 0s 8ms/step - loss: 1.0786 - accuracy: 0.4800 - val_loss: 1.0721 - val_accuracy: 0.4550\n",
      "Epoch 36/50\n",
      "25/25 [==============================] - 0s 7ms/step - loss: 1.0852 - accuracy: 0.4888 - val_loss: 1.0792 - val_accuracy: 0.4500\n",
      "Epoch 37/50\n",
      "25/25 [==============================] - 0s 8ms/step - loss: 1.0773 - accuracy: 0.4837 - val_loss: 1.1478 - val_accuracy: 0.4450\n",
      "Epoch 38/50\n",
      "25/25 [==============================] - 0s 8ms/step - loss: 1.0771 - accuracy: 0.4925 - val_loss: 1.0695 - val_accuracy: 0.4550\n",
      "Epoch 39/50\n",
      "25/25 [==============================] - 0s 8ms/step - loss: 1.0502 - accuracy: 0.5138 - val_loss: 1.0412 - val_accuracy: 0.4950\n",
      "Epoch 40/50\n",
      "25/25 [==============================] - 0s 8ms/step - loss: 1.0388 - accuracy: 0.5175 - val_loss: 1.0378 - val_accuracy: 0.4800\n",
      "Epoch 41/50\n",
      "25/25 [==============================] - 0s 8ms/step - loss: 1.0225 - accuracy: 0.5175 - val_loss: 1.0329 - val_accuracy: 0.4800\n",
      "Epoch 42/50\n",
      "25/25 [==============================] - 0s 8ms/step - loss: 1.0168 - accuracy: 0.5263 - val_loss: 1.0236 - val_accuracy: 0.4950\n",
      "Epoch 43/50\n",
      "25/25 [==============================] - 0s 8ms/step - loss: 1.0112 - accuracy: 0.5238 - val_loss: 1.0182 - val_accuracy: 0.4800\n",
      "Epoch 44/50\n",
      "25/25 [==============================] - 0s 8ms/step - loss: 1.0024 - accuracy: 0.5250 - val_loss: 1.0041 - val_accuracy: 0.4950\n",
      "Epoch 45/50\n",
      "25/25 [==============================] - 0s 8ms/step - loss: 0.9905 - accuracy: 0.5275 - val_loss: 0.9916 - val_accuracy: 0.4950\n",
      "Epoch 46/50\n",
      "25/25 [==============================] - 0s 9ms/step - loss: 0.9868 - accuracy: 0.5337 - val_loss: 0.9872 - val_accuracy: 0.5300\n",
      "Epoch 47/50\n",
      "25/25 [==============================] - 0s 8ms/step - loss: 0.9763 - accuracy: 0.5312 - val_loss: 0.9828 - val_accuracy: 0.4950\n",
      "Epoch 48/50\n",
      "25/25 [==============================] - 0s 7ms/step - loss: 0.9724 - accuracy: 0.5612 - val_loss: 0.9701 - val_accuracy: 0.4950\n",
      "Epoch 49/50\n",
      "25/25 [==============================] - 0s 7ms/step - loss: 0.9575 - accuracy: 0.5412 - val_loss: 0.9691 - val_accuracy: 0.5300\n",
      "Epoch 50/50\n",
      "25/25 [==============================] - 0s 8ms/step - loss: 0.9512 - accuracy: 0.5725 - val_loss: 0.9526 - val_accuracy: 0.4950\n"
     ]
    },
    {
     "data": {
      "text/plain": [
       "<keras.src.callbacks.History at 0x1db22ae30d0>"
      ]
     },
     "execution_count": 56,
     "metadata": {},
     "output_type": "execute_result"
    }
   ],
   "source": [
    "# Train the model\n",
    "model.fit(X_train, y_train, epochs=50, batch_size=32, validation_data=(X_test, y_test))"
   ]
  },
  {
   "cell_type": "code",
   "execution_count": 57,
   "id": "ff3ae932-012d-4d79-9f65-88d197c120a9",
   "metadata": {},
   "outputs": [
    {
     "name": "stdout",
     "output_type": "stream",
     "text": [
      "1/1 [==============================] - 0s 84ms/step\n"
     ]
    }
   ],
   "source": [
    "# Test the model with a new angle\n",
    "new_angle = np.array([150])\n",
    "predicted_probs = model.predict(new_angle.reshape(-1, 1))\n",
    "predicted_quadrant = np.argmax(predicted_probs)"
   ]
  },
  {
   "cell_type": "code",
   "execution_count": 58,
   "id": "07556663-b5a5-46ec-ac88-6548eac28061",
   "metadata": {},
   "outputs": [
    {
     "name": "stdout",
     "output_type": "stream",
     "text": [
      "The predicted quadrant for 150 degrees is 3\n"
     ]
    }
   ],
   "source": [
    "print(f\"The predicted quadrant for {new_angle[0]} degrees is {predicted_quadrant}\")"
   ]
  },
  {
   "cell_type": "markdown",
   "id": "f2a4eb99-e5c2-4975-822a-e6c57a8262da",
   "metadata": {},
   "source": [
    "# Visualize the Behavior of the Neural Network\n",
    "## by plotting the decision boundaries it has learned."
   ]
  },
  {
   "cell_type": "code",
   "execution_count": 59,
   "id": "89131270-f83b-4698-95f2-8add81c8d242",
   "metadata": {},
   "outputs": [],
   "source": [
    "import matplotlib.pyplot as plt"
   ]
  },
  {
   "cell_type": "code",
   "execution_count": 60,
   "id": "f451114b-1779-4c4f-b2b1-726b7a564030",
   "metadata": {},
   "outputs": [],
   "source": [
    "# Generate angles for visualization\n",
    "angles_vis = np.linspace(0, 360, 1000)\n",
    "X_vis = angles_vis.reshape(-1, 1)"
   ]
  },
  {
   "cell_type": "code",
   "execution_count": 61,
   "id": "5a5b35f9-ba29-43b3-855a-83acf7f98990",
   "metadata": {},
   "outputs": [
    {
     "name": "stdout",
     "output_type": "stream",
     "text": [
      "32/32 [==============================] - 0s 3ms/step\n"
     ]
    }
   ],
   "source": [
    "# Predict the quadrants for the visualization angles\n",
    "predictions_vis = model.predict(X_vis)"
   ]
  },
  {
   "cell_type": "code",
   "execution_count": 62,
   "id": "22400737-5868-43cc-8d75-f3905d224315",
   "metadata": {},
   "outputs": [
    {
     "data": {
      "image/png": "[encoded data removed]",
      "text/plain": [
       "<Figure size 1000x600 with 1 Axes>"
      ]
     },
     "metadata": {},
     "output_type": "display_data"
    }
   ],
   "source": [
    "# Plot the decision boundaries\n",
    "plt.figure(figsize=(10, 6))\n",
    "for i in range(4):\n",
    "    plt.plot(angles_vis, predictions_vis[:, i], label=f'Quadrant {i}')\n",
    "\n",
    "plt.title('Neural Network Decision Boundaries')\n",
    "plt.xlabel('Angle (degrees)')\n",
    "plt.ylabel('Probability')\n",
    "plt.legend()\n",
    "plt.show()"
   ]
  },
  {
   "cell_type": "markdown",
   "id": "21a67ff0-5e55-4c92-8b59-252d3e1892c1",
   "metadata": {},
   "source": [
    "This code generates a plot that shows the probability assigned by the model to each quadrant for a range of angles. Each line represents the probability assigned to one of the four quadrants. You should see that for each quadrant, there's a range of angles where the model assigns a high probability to that quadrant."
   ]
  },
  {
   "cell_type": "code",
   "execution_count": 63,
   "id": "ec09451a-ff08-4115-a9e6-fb645f389227",
   "metadata": {},
   "outputs": [
    {
     "name": "stdout",
     "output_type": "stream",
     "text": [
      "Model: \"sequential_10\"\n",
      "_________________________________________________________________\n",
      " Layer (type)                Output Shape              Param #   \n",
      "=================================================================\n",
      " dense_20 (Dense)            (None, 10)                20        \n",
      "                                                                 \n",
      " dense_21 (Dense)            (None, 4)                 44        \n",
      "                                                                 \n",
      "=================================================================\n",
      "Total params: 64 (256.00 Byte)\n",
      "Trainable params: 64 (256.00 Byte)\n",
      "Non-trainable params: 0 (0.00 Byte)\n",
      "_________________________________________________________________\n"
     ]
    }
   ],
   "source": [
    "from tensorflow.keras.models import Sequential\n",
    "from tensorflow.keras.layers import Dense\n",
    "\n",
    "# Create a simple neural network model\n",
    "model = Sequential()\n",
    "model.add(Dense(10, input_dim=1, activation='relu'))\n",
    "model.add(Dense(4, activation='softmax'))\n",
    "\n",
    "# Print the model summary\n",
    "model.summary()"
   ]
  },
  {
   "cell_type": "markdown",
   "id": "977ac4a4-8c5a-4f30-a82e-4da2d9f8cb47",
   "metadata": {},
   "source": [
    "# Plotly\n",
    "\n",
    "The purpose of the provided Plotly code is to visually represent a simple neural network architecture in an interactive and graphical format. The code uses the 'plotly.graph_objects' library to create a figure that consists of nodes (representing units) and edges (representing connections) between these nodes. The resulting plot provides a visual representation of the structure of the neural network.\n",
    "\n",
    "This code creates an interactive visualization of the neural network architecture, where you can hover over nodes and connections for more information.\n",
    "\n",
    "The purpose of this visualization is to provide a graphical representation of the neural network's structure, making it easier to understand the arrangement of layers and connections between units. While this example is relatively simple, such visualizations become increasingly valuable for more complex neural networks. Don't get me wrong but there is no use of it here, why I did that because I want to show off, this goes to LinkedIn you know."
   ]
  },
  {
   "cell_type": "code",
   "execution_count": 64,
   "id": "f16d585d-8547-485b-8713-09d923ddcd22",
   "metadata": {},
   "outputs": [
    {
     "data": {
      "application/vnd.plotly.v1+json": {
       "config": {
        "plotlyServerURL": "https://plot.ly"
       },
       "data": [
        {
         "marker": {
          "size": 20,
          "symbol": "circle"
         },
         "mode": "markers+text",
         "text": [
          "Layer 1<br>Unit 1"
         ],
         "textposition": "bottom center",
         "type": "scatter",
         "x": [
          0
         ],
         "y": [
          0
         ]
        },
        {
         "marker": {
          "size": 20,
          "symbol": "circle"
         },
         "mode": "markers+text",
         "text": [
          "Layer 1<br>Unit 2"
         ],
         "textposition": "bottom center",
         "type": "scatter",
         "x": [
          0
         ],
         "y": [
          1
         ]
        },
        {
         "marker": {
          "size": 20,
          "symbol": "circle"
         },
         "mode": "markers+text",
         "text": [
          "Layer 1<br>Unit 3"
         ],
         "textposition": "bottom center",
         "type": "scatter",
         "x": [
          0
         ],
         "y": [
          2
         ]
        },
        {
         "marker": {
          "size": 20,
          "symbol": "circle"
         },
         "mode": "markers+text",
         "text": [
          "Layer 1<br>Unit 4"
         ],
         "textposition": "bottom center",
         "type": "scatter",
         "x": [
          0
         ],
         "y": [
          3
         ]
        },
        {
         "marker": {
          "size": 20,
          "symbol": "circle"
         },
         "mode": "markers+text",
         "text": [
          "Layer 1<br>Unit 5"
         ],
         "textposition": "bottom center",
         "type": "scatter",
         "x": [
          0
         ],
         "y": [
          4
         ]
        },
        {
         "marker": {
          "size": 20,
          "symbol": "circle"
         },
         "mode": "markers+text",
         "text": [
          "Layer 1<br>Unit 6"
         ],
         "textposition": "bottom center",
         "type": "scatter",
         "x": [
          0
         ],
         "y": [
          5
         ]
        },
        {
         "marker": {
          "size": 20,
          "symbol": "circle"
         },
         "mode": "markers+text",
         "text": [
          "Layer 1<br>Unit 7"
         ],
         "textposition": "bottom center",
         "type": "scatter",
         "x": [
          0
         ],
         "y": [
          6
         ]
        },
        {
         "marker": {
          "size": 20,
          "symbol": "circle"
         },
         "mode": "markers+text",
         "text": [
          "Layer 1<br>Unit 8"
         ],
         "textposition": "bottom center",
         "type": "scatter",
         "x": [
          0
         ],
         "y": [
          7
         ]
        },
        {
         "marker": {
          "size": 20,
          "symbol": "circle"
         },
         "mode": "markers+text",
         "text": [
          "Layer 1<br>Unit 9"
         ],
         "textposition": "bottom center",
         "type": "scatter",
         "x": [
          0
         ],
         "y": [
          8
         ]
        },
        {
         "marker": {
          "size": 20,
          "symbol": "circle"
         },
         "mode": "markers+text",
         "text": [
          "Layer 1<br>Unit 10"
         ],
         "textposition": "bottom center",
         "type": "scatter",
         "x": [
          0
         ],
         "y": [
          9
         ]
        },
        {
         "marker": {
          "size": 20,
          "symbol": "circle"
         },
         "mode": "markers+text",
         "text": [
          "Layer 2<br>Unit 1"
         ],
         "textposition": "bottom center",
         "type": "scatter",
         "x": [
          1
         ],
         "y": [
          0
         ]
        },
        {
         "marker": {
          "size": 20,
          "symbol": "circle"
         },
         "mode": "markers+text",
         "text": [
          "Layer 2<br>Unit 2"
         ],
         "textposition": "bottom center",
         "type": "scatter",
         "x": [
          1
         ],
         "y": [
          1
         ]
        },
        {
         "marker": {
          "size": 20,
          "symbol": "circle"
         },
         "mode": "markers+text",
         "text": [
          "Layer 2<br>Unit 3"
         ],
         "textposition": "bottom center",
         "type": "scatter",
         "x": [
          1
         ],
         "y": [
          2
         ]
        },
        {
         "marker": {
          "size": 20,
          "symbol": "circle"
         },
         "mode": "markers+text",
         "text": [
          "Layer 2<br>Unit 4"
         ],
         "textposition": "bottom center",
         "type": "scatter",
         "x": [
          1
         ],
         "y": [
          3
         ]
        },
        {
         "line": {
          "color": "black"
         },
         "mode": "lines",
         "type": "scatter",
         "x": [
          0,
          1
         ],
         "y": [
          0,
          0
         ]
        },
        {
         "line": {
          "color": "black"
         },
         "mode": "lines",
         "type": "scatter",
         "x": [
          0,
          1
         ],
         "y": [
          0,
          1
         ]
        },
        {
         "line": {
          "color": "black"
         },
         "mode": "lines",
         "type": "scatter",
         "x": [
          0,
          1
         ],
         "y": [
          0,
          2
         ]
        },
        {
         "line": {
          "color": "black"
         },
         "mode": "lines",
         "type": "scatter",
         "x": [
          0,
          1
         ],
         "y": [
          0,
          3
         ]
        },
        {
         "line": {
          "color": "black"
         },
         "mode": "lines",
         "type": "scatter",
         "x": [
          0,
          1
         ],
         "y": [
          0,
          4
         ]
        },
        {
         "line": {
          "color": "black"
         },
         "mode": "lines",
         "type": "scatter",
         "x": [
          0,
          1
         ],
         "y": [
          0,
          5
         ]
        },
        {
         "line": {
          "color": "black"
         },
         "mode": "lines",
         "type": "scatter",
         "x": [
          0,
          1
         ],
         "y": [
          0,
          6
         ]
        },
        {
         "line": {
          "color": "black"
         },
         "mode": "lines",
         "type": "scatter",
         "x": [
          0,
          1
         ],
         "y": [
          0,
          7
         ]
        },
        {
         "line": {
          "color": "black"
         },
         "mode": "lines",
         "type": "scatter",
         "x": [
          0,
          1
         ],
         "y": [
          0,
          8
         ]
        },
        {
         "line": {
          "color": "black"
         },
         "mode": "lines",
         "type": "scatter",
         "x": [
          0,
          1
         ],
         "y": [
          0,
          9
         ]
        },
        {
         "line": {
          "color": "black"
         },
         "mode": "lines",
         "type": "scatter",
         "x": [
          0,
          1
         ],
         "y": [
          1,
          0
         ]
        },
        {
         "line": {
          "color": "black"
         },
         "mode": "lines",
         "type": "scatter",
         "x": [
          0,
          1
         ],
         "y": [
          1,
          1
         ]
        },
        {
         "line": {
          "color": "black"
         },
         "mode": "lines",
         "type": "scatter",
         "x": [
          0,
          1
         ],
         "y": [
          1,
          2
         ]
        },
        {
         "line": {
          "color": "black"
         },
         "mode": "lines",
         "type": "scatter",
         "x": [
          0,
          1
         ],
         "y": [
          1,
          3
         ]
        },
        {
         "line": {
          "color": "black"
         },
         "mode": "lines",
         "type": "scatter",
         "x": [
          0,
          1
         ],
         "y": [
          1,
          4
         ]
        },
        {
         "line": {
          "color": "black"
         },
         "mode": "lines",
         "type": "scatter",
         "x": [
          0,
          1
         ],
         "y": [
          1,
          5
         ]
        },
        {
         "line": {
          "color": "black"
         },
         "mode": "lines",
         "type": "scatter",
         "x": [
          0,
          1
         ],
         "y": [
          1,
          6
         ]
        },
        {
         "line": {
          "color": "black"
         },
         "mode": "lines",
         "type": "scatter",
         "x": [
          0,
          1
         ],
         "y": [
          1,
          7
         ]
        },
        {
         "line": {
          "color": "black"
         },
         "mode": "lines",
         "type": "scatter",
         "x": [
          0,
          1
         ],
         "y": [
          1,
          8
         ]
        },
        {
         "line": {
          "color": "black"
         },
         "mode": "lines",
         "type": "scatter",
         "x": [
          0,
          1
         ],
         "y": [
          1,
          9
         ]
        },
        {
         "line": {
          "color": "black"
         },
         "mode": "lines",
         "type": "scatter",
         "x": [
          0,
          1
         ],
         "y": [
          2,
          0
         ]
        },
        {
         "line": {
          "color": "black"
         },
         "mode": "lines",
         "type": "scatter",
         "x": [
          0,
          1
         ],
         "y": [
          2,
          1
         ]
        },
        {
         "line": {
          "color": "black"
         },
         "mode": "lines",
         "type": "scatter",
         "x": [
          0,
          1
         ],
         "y": [
          2,
          2
         ]
        },
        {
         "line": {
          "color": "black"
         },
         "mode": "lines",
         "type": "scatter",
         "x": [
          0,
          1
         ],
         "y": [
          2,
          3
         ]
        },
        {
         "line": {
          "color": "black"
         },
         "mode": "lines",
         "type": "scatter",
         "x": [
          0,
          1
         ],
         "y": [
          2,
          4
         ]
        },
        {
         "line": {
          "color": "black"
         },
         "mode": "lines",
         "type": "scatter",
         "x": [
          0,
          1
         ],
         "y": [
          2,
          5
         ]
        },
        {
         "line": {
          "color": "black"
         },
         "mode": "lines",
         "type": "scatter",
         "x": [
          0,
          1
         ],
         "y": [
          2,
          6
         ]
        },
        {
         "line": {
          "color": "black"
         },
         "mode": "lines",
         "type": "scatter",
         "x": [
          0,
          1
         ],
         "y": [
          2,
          7
         ]
        },
        {
         "line": {
          "color": "black"
         },
         "mode": "lines",
         "type": "scatter",
         "x": [
          0,
          1
         ],
         "y": [
          2,
          8
         ]
        },
        {
         "line": {
          "color": "black"
         },
         "mode": "lines",
         "type": "scatter",
         "x": [
          0,
          1
         ],
         "y": [
          2,
          9
         ]
        },
        {
         "line": {
          "color": "black"
         },
         "mode": "lines",
         "type": "scatter",
         "x": [
          0,
          1
         ],
         "y": [
          3,
          0
         ]
        },
        {
         "line": {
          "color": "black"
         },
         "mode": "lines",
         "type": "scatter",
         "x": [
          0,
          1
         ],
         "y": [
          3,
          1
         ]
        },
        {
         "line": {
          "color": "black"
         },
         "mode": "lines",
         "type": "scatter",
         "x": [
          0,
          1
         ],
         "y": [
          3,
          2
         ]
        },
        {
         "line": {
          "color": "black"
         },
         "mode": "lines",
         "type": "scatter",
         "x": [
          0,
          1
         ],
         "y": [
          3,
          3
         ]
        },
        {
         "line": {
          "color": "black"
         },
         "mode": "lines",
         "type": "scatter",
         "x": [
          0,
          1
         ],
         "y": [
          3,
          4
         ]
        },
        {
         "line": {
          "color": "black"
         },
         "mode": "lines",
         "type": "scatter",
         "x": [
          0,
          1
         ],
         "y": [
          3,
          5
         ]
        },
        {
         "line": {
          "color": "black"
         },
         "mode": "lines",
         "type": "scatter",
         "x": [
          0,
          1
         ],
         "y": [
          3,
          6
         ]
        },
        {
         "line": {
          "color": "black"
         },
         "mode": "lines",
         "type": "scatter",
         "x": [
          0,
          1
         ],
         "y": [
          3,
          7
         ]
        },
        {
         "line": {
          "color": "black"
         },
         "mode": "lines",
         "type": "scatter",
         "x": [
          0,
          1
         ],
         "y": [
          3,
          8
         ]
        },
        {
         "line": {
          "color": "black"
         },
         "mode": "lines",
         "type": "scatter",
         "x": [
          0,
          1
         ],
         "y": [
          3,
          9
         ]
        },
        {
         "line": {
          "color": "black"
         },
         "mode": "lines",
         "type": "scatter",
         "x": [
          0,
          1
         ],
         "y": [
          4,
          0
         ]
        },
        {
         "line": {
          "color": "black"
         },
         "mode": "lines",
         "type": "scatter",
         "x": [
          0,
          1
         ],
         "y": [
          4,
          1
         ]
        },
        {
         "line": {
          "color": "black"
         },
         "mode": "lines",
         "type": "scatter",
         "x": [
          0,
          1
         ],
         "y": [
          4,
          2
         ]
        },
        {
         "line": {
          "color": "black"
         },
         "mode": "lines",
         "type": "scatter",
         "x": [
          0,
          1
         ],
         "y": [
          4,
          3
         ]
        },
        {
         "line": {
          "color": "black"
         },
         "mode": "lines",
         "type": "scatter",
         "x": [
          0,
          1
         ],
         "y": [
          4,
          4
         ]
        },
        {
         "line": {
          "color": "black"
         },
         "mode": "lines",
         "type": "scatter",
         "x": [
          0,
          1
         ],
         "y": [
          4,
          5
         ]
        },
        {
         "line": {
          "color": "black"
         },
         "mode": "lines",
         "type": "scatter",
         "x": [
          0,
          1
         ],
         "y": [
          4,
          6
         ]
        },
        {
         "line": {
          "color": "black"
         },
         "mode": "lines",
         "type": "scatter",
         "x": [
          0,
          1
         ],
         "y": [
          4,
          7
         ]
        },
        {
         "line": {
          "color": "black"
         },
         "mode": "lines",
         "type": "scatter",
         "x": [
          0,
          1
         ],
         "y": [
          4,
          8
         ]
        },
        {
         "line": {
          "color": "black"
         },
         "mode": "lines",
         "type": "scatter",
         "x": [
          0,
          1
         ],
         "y": [
          4,
          9
         ]
        },
        {
         "line": {
          "color": "black"
         },
         "mode": "lines",
         "type": "scatter",
         "x": [
          0,
          1
         ],
         "y": [
          5,
          0
         ]
        },
        {
         "line": {
          "color": "black"
         },
         "mode": "lines",
         "type": "scatter",
         "x": [
          0,
          1
         ],
         "y": [
          5,
          1
         ]
        },
        {
         "line": {
          "color": "black"
         },
         "mode": "lines",
         "type": "scatter",
         "x": [
          0,
          1
         ],
         "y": [
          5,
          2
         ]
        },
        {
         "line": {
          "color": "black"
         },
         "mode": "lines",
         "type": "scatter",
         "x": [
          0,
          1
         ],
         "y": [
          5,
          3
         ]
        },
        {
         "line": {
          "color": "black"
         },
         "mode": "lines",
         "type": "scatter",
         "x": [
          0,
          1
         ],
         "y": [
          5,
          4
         ]
        },
        {
         "line": {
          "color": "black"
         },
         "mode": "lines",
         "type": "scatter",
         "x": [
          0,
          1
         ],
         "y": [
          5,
          5
         ]
        },
        {
         "line": {
          "color": "black"
         },
         "mode": "lines",
         "type": "scatter",
         "x": [
          0,
          1
         ],
         "y": [
          5,
          6
         ]
        },
        {
         "line": {
          "color": "black"
         },
         "mode": "lines",
         "type": "scatter",
         "x": [
          0,
          1
         ],
         "y": [
          5,
          7
         ]
        },
        {
         "line": {
          "color": "black"
         },
         "mode": "lines",
         "type": "scatter",
         "x": [
          0,
          1
         ],
         "y": [
          5,
          8
         ]
        },
        {
         "line": {
          "color": "black"
         },
         "mode": "lines",
         "type": "scatter",
         "x": [
          0,
          1
         ],
         "y": [
          5,
          9
         ]
        },
        {
         "line": {
          "color": "black"
         },
         "mode": "lines",
         "type": "scatter",
         "x": [
          0,
          1
         ],
         "y": [
          6,
          0
         ]
        },
        {
         "line": {
          "color": "black"
         },
         "mode": "lines",
         "type": "scatter",
         "x": [
          0,
          1
         ],
         "y": [
          6,
          1
         ]
        },
        {
         "line": {
          "color": "black"
         },
         "mode": "lines",
         "type": "scatter",
         "x": [
          0,
          1
         ],
         "y": [
          6,
          2
         ]
        },
        {
         "line": {
          "color": "black"
         },
         "mode": "lines",
         "type": "scatter",
         "x": [
          0,
          1
         ],
         "y": [
          6,
          3
         ]
        },
        {
         "line": {
          "color": "black"
         },
         "mode": "lines",
         "type": "scatter",
         "x": [
          0,
          1
         ],
         "y": [
          6,
          4
         ]
        },
        {
         "line": {
          "color": "black"
         },
         "mode": "lines",
         "type": "scatter",
         "x": [
          0,
          1
         ],
         "y": [
          6,
          5
         ]
        },
        {
         "line": {
          "color": "black"
         },
         "mode": "lines",
         "type": "scatter",
         "x": [
          0,
          1
         ],
         "y": [
          6,
          6
         ]
        },
        {
         "line": {
          "color": "black"
         },
         "mode": "lines",
         "type": "scatter",
         "x": [
          0,
          1
         ],
         "y": [
          6,
          7
         ]
        },
        {
         "line": {
          "color": "black"
         },
         "mode": "lines",
         "type": "scatter",
         "x": [
          0,
          1
         ],
         "y": [
          6,
          8
         ]
        },
        {
         "line": {
          "color": "black"
         },
         "mode": "lines",
         "type": "scatter",
         "x": [
          0,
          1
         ],
         "y": [
          6,
          9
         ]
        },
        {
         "line": {
          "color": "black"
         },
         "mode": "lines",
         "type": "scatter",
         "x": [
          0,
          1
         ],
         "y": [
          7,
          0
         ]
        },
        {
         "line": {
          "color": "black"
         },
         "mode": "lines",
         "type": "scatter",
         "x": [
          0,
          1
         ],
         "y": [
          7,
          1
         ]
        },
        {
         "line": {
          "color": "black"
         },
         "mode": "lines",
         "type": "scatter",
         "x": [
          0,
          1
         ],
         "y": [
          7,
          2
         ]
        },
        {
         "line": {
          "color": "black"
         },
         "mode": "lines",
         "type": "scatter",
         "x": [
          0,
          1
         ],
         "y": [
          7,
          3
         ]
        },
        {
         "line": {
          "color": "black"
         },
         "mode": "lines",
         "type": "scatter",
         "x": [
          0,
          1
         ],
         "y": [
          7,
          4
         ]
        },
        {
         "line": {
          "color": "black"
         },
         "mode": "lines",
         "type": "scatter",
         "x": [
          0,
          1
         ],
         "y": [
          7,
          5
         ]
        },
        {
         "line": {
          "color": "black"
         },
         "mode": "lines",
         "type": "scatter",
         "x": [
          0,
          1
         ],
         "y": [
          7,
          6
         ]
        },
        {
         "line": {
          "color": "black"
         },
         "mode": "lines",
         "type": "scatter",
         "x": [
          0,
          1
         ],
         "y": [
          7,
          7
         ]
        },
        {
         "line": {
          "color": "black"
         },
         "mode": "lines",
         "type": "scatter",
         "x": [
          0,
          1
         ],
         "y": [
          7,
          8
         ]
        },
        {
         "line": {
          "color": "black"
         },
         "mode": "lines",
         "type": "scatter",
         "x": [
          0,
          1
         ],
         "y": [
          7,
          9
         ]
        },
        {
         "line": {
          "color": "black"
         },
         "mode": "lines",
         "type": "scatter",
         "x": [
          0,
          1
         ],
         "y": [
          8,
          0
         ]
        },
        {
         "line": {
          "color": "black"
         },
         "mode": "lines",
         "type": "scatter",
         "x": [
          0,
          1
         ],
         "y": [
          8,
          1
         ]
        },
        {
         "line": {
          "color": "black"
         },
         "mode": "lines",
         "type": "scatter",
         "x": [
          0,
          1
         ],
         "y": [
          8,
          2
         ]
        },
        {
         "line": {
          "color": "black"
         },
         "mode": "lines",
         "type": "scatter",
         "x": [
          0,
          1
         ],
         "y": [
          8,
          3
         ]
        },
        {
         "line": {
          "color": "black"
         },
         "mode": "lines",
         "type": "scatter",
         "x": [
          0,
          1
         ],
         "y": [
          8,
          4
         ]
        },
        {
         "line": {
          "color": "black"
         },
         "mode": "lines",
         "type": "scatter",
         "x": [
          0,
          1
         ],
         "y": [
          8,
          5
         ]
        },
        {
         "line": {
          "color": "black"
         },
         "mode": "lines",
         "type": "scatter",
         "x": [
          0,
          1
         ],
         "y": [
          8,
          6
         ]
        },
        {
         "line": {
          "color": "black"
         },
         "mode": "lines",
         "type": "scatter",
         "x": [
          0,
          1
         ],
         "y": [
          8,
          7
         ]
        },
        {
         "line": {
          "color": "black"
         },
         "mode": "lines",
         "type": "scatter",
         "x": [
          0,
          1
         ],
         "y": [
          8,
          8
         ]
        },
        {
         "line": {
          "color": "black"
         },
         "mode": "lines",
         "type": "scatter",
         "x": [
          0,
          1
         ],
         "y": [
          8,
          9
         ]
        },
        {
         "line": {
          "color": "black"
         },
         "mode": "lines",
         "type": "scatter",
         "x": [
          0,
          1
         ],
         "y": [
          9,
          0
         ]
        },
        {
         "line": {
          "color": "black"
         },
         "mode": "lines",
         "type": "scatter",
         "x": [
          0,
          1
         ],
         "y": [
          9,
          1
         ]
        },
        {
         "line": {
          "color": "black"
         },
         "mode": "lines",
         "type": "scatter",
         "x": [
          0,
          1
         ],
         "y": [
          9,
          2
         ]
        },
        {
         "line": {
          "color": "black"
         },
         "mode": "lines",
         "type": "scatter",
         "x": [
          0,
          1
         ],
         "y": [
          9,
          3
         ]
        },
        {
         "line": {
          "color": "black"
         },
         "mode": "lines",
         "type": "scatter",
         "x": [
          0,
          1
         ],
         "y": [
          9,
          4
         ]
        },
        {
         "line": {
          "color": "black"
         },
         "mode": "lines",
         "type": "scatter",
         "x": [
          0,
          1
         ],
         "y": [
          9,
          5
         ]
        },
        {
         "line": {
          "color": "black"
         },
         "mode": "lines",
         "type": "scatter",
         "x": [
          0,
          1
         ],
         "y": [
          9,
          6
         ]
        },
        {
         "line": {
          "color": "black"
         },
         "mode": "lines",
         "type": "scatter",
         "x": [
          0,
          1
         ],
         "y": [
          9,
          7
         ]
        },
        {
         "line": {
          "color": "black"
         },
         "mode": "lines",
         "type": "scatter",
         "x": [
          0,
          1
         ],
         "y": [
          9,
          8
         ]
        },
        {
         "line": {
          "color": "black"
         },
         "mode": "lines",
         "type": "scatter",
         "x": [
          0,
          1
         ],
         "y": [
          9,
          9
         ]
        }
       ],
       "layout": {
        "autosize": true,
        "template": {
         "data": {
          "bar": [
           {
            "error_x": {
             "color": "#2a3f5f"
            },
            "error_y": {
             "color": "#2a3f5f"
            },
            "marker": {
             "line": {
              "color": "#E5ECF6",
              "width": 0.5
             },
             "pattern": {
              "fillmode": "overlay",
              "size": 10,
              "solidity": 0.2
             }
            },
            "type": "bar"
           }
          ],
          "barpolar": [
           {
            "marker": {
             "line": {
              "color": "#E5ECF6",
              "width": 0.5
             },
             "pattern": {
              "fillmode": "overlay",
              "size": 10,
              "solidity": 0.2
             }
            },
            "type": "barpolar"
           }
          ],
          "carpet": [
           {
            "aaxis": {
             "endlinecolor": "#2a3f5f",
             "gridcolor": "white",
             "linecolor": "white",
             "minorgridcolor": "white",
             "startlinecolor": "#2a3f5f"
            },
            "baxis": {
             "endlinecolor": "#2a3f5f",
             "gridcolor": "white",
             "linecolor": "white",
             "minorgridcolor": "white",
             "startlinecolor": "#2a3f5f"
            },
            "type": "carpet"
           }
          ],
          "choropleth": [
           {
            "colorbar": {
             "outlinewidth": 0,
             "ticks": ""
            },
            "type": "choropleth"
           }
          ],
          "contour": [
           {
            "colorbar": {
             "outlinewidth": 0,
             "ticks": ""
            },
            "colorscale": [
             [
              0,
              "#0d0887"
             ],
             [
              0.1111111111111111,
              "#46039f"
             ],
             [
              0.2222222222222222,
              "#7201a8"
             ],
             [
              0.3333333333333333,
              "#9c179e"
             ],
             [
              0.4444444444444444,
              "#bd3786"
             ],
             [
              0.5555555555555556,
              "#d8576b"
             ],
             [
              0.6666666666666666,
              "#ed7953"
             ],
             [
              0.7777777777777778,
              "#fb9f3a"
             ],
             [
              0.8888888888888888,
              "#fdca26"
             ],
             [
              1,
              "#f0f921"
             ]
            ],
            "type": "contour"
           }
          ],
          "contourcarpet": [
           {
            "colorbar": {
             "outlinewidth": 0,
             "ticks": ""
            },
            "type": "contourcarpet"
           }
          ],
          "heatmap": [
           {
            "colorbar": {
             "outlinewidth": 0,
             "ticks": ""
            },
            "colorscale": [
             [
              0,
              "#0d0887"
             ],
             [
              0.1111111111111111,
              "#46039f"
             ],
             [
              0.2222222222222222,
              "#7201a8"
             ],
             [
              0.3333333333333333,
              "#9c179e"
             ],
             [
              0.4444444444444444,
              "#bd3786"
             ],
             [
              0.5555555555555556,
              "#d8576b"
             ],
             [
              0.6666666666666666,
              "#ed7953"
             ],
             [
              0.7777777777777778,
              "#fb9f3a"
             ],
             [
              0.8888888888888888,
              "#fdca26"
             ],
             [
              1,
              "#f0f921"
             ]
            ],
            "type": "heatmap"
           }
          ],
          "heatmapgl": [
           {
            "colorbar": {
             "outlinewidth": 0,
             "ticks": ""
            },
            "colorscale": [
             [
              0,
              "#0d0887"
             ],
             [
              0.1111111111111111,
              "#46039f"
             ],
             [
              0.2222222222222222,
              "#7201a8"
             ],
             [
              0.3333333333333333,
              "#9c179e"
             ],
             [
              0.4444444444444444,
              "#bd3786"
             ],
             [
              0.5555555555555556,
              "#d8576b"
             ],
             [
              0.6666666666666666,
              "#ed7953"
             ],
             [
              0.7777777777777778,
              "#fb9f3a"
             ],
             [
              0.8888888888888888,
              "#fdca26"
             ],
             [
              1,
              "#f0f921"
             ]
            ],
            "type": "heatmapgl"
           }
          ],
          "histogram": [
           {
            "marker": {
             "pattern": {
              "fillmode": "overlay",
              "size": 10,
              "solidity": 0.2
             }
            },
            "type": "histogram"
           }
          ],
          "histogram2d": [
           {
            "colorbar": {
             "outlinewidth": 0,
             "ticks": ""
            },
            "colorscale": [
             [
              0,
              "#0d0887"
             ],
             [
              0.1111111111111111,
              "#46039f"
             ],
             [
              0.2222222222222222,
              "#7201a8"
             ],
             [
              0.3333333333333333,
              "#9c179e"
             ],
             [
              0.4444444444444444,
              "#bd3786"
             ],
             [
              0.5555555555555556,
              "#d8576b"
             ],
             [
              0.6666666666666666,
              "#ed7953"
             ],
             [
              0.7777777777777778,
              "#fb9f3a"
             ],
             [
              0.8888888888888888,
              "#fdca26"
             ],
             [
              1,
              "#f0f921"
             ]
            ],
            "type": "histogram2d"
           }
          ],
          "histogram2dcontour": [
           {
            "colorbar": {
             "outlinewidth": 0,
             "ticks": ""
            },
            "colorscale": [
             [
              0,
              "#0d0887"
             ],
             [
              0.1111111111111111,
              "#46039f"
             ],
             [
              0.2222222222222222,
              "#7201a8"
             ],
             [
              0.3333333333333333,
              "#9c179e"
             ],
             [
              0.4444444444444444,
              "#bd3786"
             ],
             [
              0.5555555555555556,
              "#d8576b"
             ],
             [
              0.6666666666666666,
              "#ed7953"
             ],
             [
              0.7777777777777778,
              "#fb9f3a"
             ],
             [
              0.8888888888888888,
              "#fdca26"
             ],
             [
              1,
              "#f0f921"
             ]
            ],
            "type": "histogram2dcontour"
           }
          ],
          "mesh3d": [
           {
            "colorbar": {
             "outlinewidth": 0,
             "ticks": ""
            },
            "type": "mesh3d"
           }
          ],
          "parcoords": [
           {
            "line": {
             "colorbar": {
              "outlinewidth": 0,
              "ticks": ""
             }
            },
            "type": "parcoords"
           }
          ],
          "pie": [
           {
            "automargin": true,
            "type": "pie"
           }
          ],
          "scatter": [
           {
            "fillpattern": {
             "fillmode": "overlay",
             "size": 10,
             "solidity": 0.2
            },
            "type": "scatter"
           }
          ],
          "scatter3d": [
           {
            "line": {
             "colorbar": {
              "outlinewidth": 0,
              "ticks": ""
             }
            },
            "marker": {
             "colorbar": {
              "outlinewidth": 0,
              "ticks": ""
             }
            },
            "type": "scatter3d"
           }
          ],
          "scattercarpet": [
           {
            "marker": {
             "colorbar": {
              "outlinewidth": 0,
              "ticks": ""
             }
            },
            "type": "scattercarpet"
           }
          ],
          "scattergeo": [
           {
            "marker": {
             "colorbar": {
              "outlinewidth": 0,
              "ticks": ""
             }
            },
            "type": "scattergeo"
           }
          ],
          "scattergl": [
           {
            "marker": {
             "colorbar": {
              "outlinewidth": 0,
              "ticks": ""
             }
            },
            "type": "scattergl"
           }
          ],
          "scattermapbox": [
           {
            "marker": {
             "colorbar": {
              "outlinewidth": 0,
              "ticks": ""
             }
            },
            "type": "scattermapbox"
           }
          ],
          "scatterpolar": [
           {
            "marker": {
             "colorbar": {
              "outlinewidth": 0,
              "ticks": ""
             }
            },
            "type": "scatterpolar"
           }
          ],
          "scatterpolargl": [
           {
            "marker": {
             "colorbar": {
              "outlinewidth": 0,
              "ticks": ""
             }
            },
            "type": "scatterpolargl"
           }
          ],
          "scatterternary": [
           {
            "marker": {
             "colorbar": {
              "outlinewidth": 0,
              "ticks": ""
             }
            },
            "type": "scatterternary"
           }
          ],
          "surface": [
           {
            "colorbar": {
             "outlinewidth": 0,
             "ticks": ""
            },
            "colorscale": [
             [
              0,
              "#0d0887"
             ],
             [
              0.1111111111111111,
              "#46039f"
             ],
             [
              0.2222222222222222,
              "#7201a8"
             ],
             [
              0.3333333333333333,
              "#9c179e"
             ],
             [
              0.4444444444444444,
              "#bd3786"
             ],
             [
              0.5555555555555556,
              "#d8576b"
             ],
             [
              0.6666666666666666,
              "#ed7953"
             ],
             [
              0.7777777777777778,
              "#fb9f3a"
             ],
             [
              0.8888888888888888,
              "#fdca26"
             ],
             [
              1,
              "#f0f921"
             ]
            ],
            "type": "surface"
           }
          ],
          "table": [
           {
            "cells": {
             "fill": {
              "color": "#EBF0F8"
             },
             "line": {
              "color": "white"
             }
            },
            "header": {
             "fill": {
              "color": "#C8D4E3"
             },
             "line": {
              "color": "white"
             }
            },
            "type": "table"
           }
          ]
         },
         "layout": {
          "annotationdefaults": {
           "arrowcolor": "#2a3f5f",
           "arrowhead": 0,
           "arrowwidth": 1
          },
          "autotypenumbers": "strict",
          "coloraxis": {
           "colorbar": {
            "outlinewidth": 0,
            "ticks": ""
           }
          },
          "colorscale": {
           "diverging": [
            [
             0,
             "#8e0152"
            ],
            [
             0.1,
             "#c51b7d"
            ],
            [
             0.2,
             "#de77ae"
            ],
            [
             0.3,
             "#f1b6da"
            ],
            [
             0.4,
             "#fde0ef"
            ],
            [
             0.5,
             "#f7f7f7"
            ],
            [
             0.6,
             "#e6f5d0"
            ],
            [
             0.7,
             "#b8e186"
            ],
            [
             0.8,
             "#7fbc41"
            ],
            [
             0.9,
             "#4d9221"
            ],
            [
             1,
             "#276419"
            ]
           ],
           "sequential": [
            [
             0,
             "#0d0887"
            ],
            [
             0.1111111111111111,
             "#46039f"
            ],
            [
             0.2222222222222222,
             "#7201a8"
            ],
            [
             0.3333333333333333,
             "#9c179e"
            ],
            [
             0.4444444444444444,
             "#bd3786"
            ],
            [
             0.5555555555555556,
             "#d8576b"
            ],
            [
             0.6666666666666666,
             "#ed7953"
            ],
            [
             0.7777777777777778,
             "#fb9f3a"
            ],
            [
             0.8888888888888888,
             "#fdca26"
            ],
            [
             1,
             "#f0f921"
            ]
           ],
           "sequentialminus": [
            [
             0,
             "#0d0887"
            ],
            [
             0.1111111111111111,
             "#46039f"
            ],
            [
             0.2222222222222222,
             "#7201a8"
            ],
            [
             0.3333333333333333,
             "#9c179e"
            ],
            [
             0.4444444444444444,
             "#bd3786"
            ],
            [
             0.5555555555555556,
             "#d8576b"
            ],
            [
             0.6666666666666666,
             "#ed7953"
            ],
            [
             0.7777777777777778,
             "#fb9f3a"
            ],
            [
             0.8888888888888888,
             "#fdca26"
            ],
            [
             1,
             "#f0f921"
            ]
           ]
          },
          "colorway": [
           "#636efa",
           "#EF553B",
           "#00cc96",
           "#ab63fa",
           "#FFA15A",
           "#19d3f3",
           "#FF6692",
           "#B6E880",
           "#FF97FF",
           "#FECB52"
          ],
          "font": {
           "color": "#2a3f5f"
          },
          "geo": {
           "bgcolor": "white",
           "lakecolor": "white",
           "landcolor": "#E5ECF6",
           "showlakes": true,
           "showland": true,
           "subunitcolor": "white"
          },
          "hoverlabel": {
           "align": "left"
          },
          "hovermode": "closest",
          "mapbox": {
           "style": "light"
          },
          "paper_bgcolor": "white",
          "plot_bgcolor": "#E5ECF6",
          "polar": {
           "angularaxis": {
            "gridcolor": "white",
            "linecolor": "white",
            "ticks": ""
           },
           "bgcolor": "#E5ECF6",
           "radialaxis": {
            "gridcolor": "white",
            "linecolor": "white",
            "ticks": ""
           }
          },
          "scene": {
           "xaxis": {
            "backgroundcolor": "#E5ECF6",
            "gridcolor": "white",
            "gridwidth": 2,
            "linecolor": "white",
            "showbackground": true,
            "ticks": "",
            "zerolinecolor": "white"
           },
           "yaxis": {
            "backgroundcolor": "#E5ECF6",
            "gridcolor": "white",
            "gridwidth": 2,
            "linecolor": "white",
            "showbackground": true,
            "ticks": "",
            "zerolinecolor": "white"
           },
           "zaxis": {
            "backgroundcolor": "#E5ECF6",
            "gridcolor": "white",
            "gridwidth": 2,
            "linecolor": "white",
            "showbackground": true,
            "ticks": "",
            "zerolinecolor": "white"
           }
          },
          "shapedefaults": {
           "line": {
            "color": "#2a3f5f"
           }
          },
          "ternary": {
           "aaxis": {
            "gridcolor": "white",
            "linecolor": "white",
            "ticks": ""
           },
           "baxis": {
            "gridcolor": "white",
            "linecolor": "white",
            "ticks": ""
           },
           "bgcolor": "#E5ECF6",
           "caxis": {
            "gridcolor": "white",
            "linecolor": "white",
            "ticks": ""
           }
          },
          "title": {
           "x": 0.05
          },
          "xaxis": {
           "automargin": true,
           "gridcolor": "white",
           "linecolor": "white",
           "ticks": "",
           "title": {
            "standoff": 15
           },
           "zerolinecolor": "white",
           "zerolinewidth": 2
          },
          "yaxis": {
           "automargin": true,
           "gridcolor": "white",
           "linecolor": "white",
           "ticks": "",
           "title": {
            "standoff": 15
           },
           "zerolinecolor": "white",
           "zerolinewidth": 2
          }
         }
        },
        "title": {
         "text": "Neural Network Architecture Visualization"
        },
        "xaxis": {
         "autorange": true,
         "range": [
          -0.07345360824742268,
          1.0734536082474226
         ],
         "ticktext": [
          "Layer 1",
          "Layer 2"
         ],
         "tickvals": [
          0,
          1
         ],
         "type": "linear"
        },
        "yaxis": {
         "autorange": true,
         "range": [
          -1.4124087591240877,
          10.412408759124087
         ],
         "title": {
          "text": "Units"
         },
         "type": "linear"
        }
       }
      },
      "image/png": "[encoded data removed]",
      "text/html": [
       "<div>                            <div id=\"a61868c2-1d86-463c-bdfe-89e0dca43132\" class=\"plotly-graph-div\" style=\"height:525px; width:100%;\"></div>            <script type=\"text/javascript\">                require([\"plotly\"], function(Plotly) {                    window.PLOTLYENV=window.PLOTLYENV || {};                                    if (document.getElementById(\"a61868c2-1d86-463c-bdfe-89e0dca43132\")) {                    Plotly.newPlot(                        \"a61868c2-1d86-463c-bdfe-89e0dca43132\",                        [{\"marker\":{\"size\":20,\"symbol\":\"circle\"},\"mode\":\"markers+text\",\"text\":[\"Layer 1\\u003cbr\\u003eUnit 1\"],\"textposition\":\"bottom center\",\"x\":[0],\"y\":[0],\"type\":\"scatter\"},{\"marker\":{\"size\":20,\"symbol\":\"circle\"},\"mode\":\"markers+text\",\"text\":[\"Layer 1\\u003cbr\\u003eUnit 2\"],\"textposition\":\"bottom center\",\"x\":[0],\"y\":[1],\"type\":\"scatter\"},{\"marker\":{\"size\":20,\"symbol\":\"circle\"},\"mode\":\"markers+text\",\"text\":[\"Layer 1\\u003cbr\\u003eUnit 3\"],\"textposition\":\"bottom center\",\"x\":[0],\"y\":[2],\"type\":\"scatter\"},{\"marker\":{\"size\":20,\"symbol\":\"circle\"},\"mode\":\"markers+text\",\"text\":[\"Layer 1\\u003cbr\\u003eUnit 4\"],\"textposition\":\"bottom center\",\"x\":[0],\"y\":[3],\"type\":\"scatter\"},{\"marker\":{\"size\":20,\"symbol\":\"circle\"},\"mode\":\"markers+text\",\"text\":[\"Layer 1\\u003cbr\\u003eUnit 5\"],\"textposition\":\"bottom center\",\"x\":[0],\"y\":[4],\"type\":\"scatter\"},{\"marker\":{\"size\":20,\"symbol\":\"circle\"},\"mode\":\"markers+text\",\"text\":[\"Layer 1\\u003cbr\\u003eUnit 6\"],\"textposition\":\"bottom center\",\"x\":[0],\"y\":[5],\"type\":\"scatter\"},{\"marker\":{\"size\":20,\"symbol\":\"circle\"},\"mode\":\"markers+text\",\"text\":[\"Layer 1\\u003cbr\\u003eUnit 7\"],\"textposition\":\"bottom center\",\"x\":[0],\"y\":[6],\"type\":\"scatter\"},{\"marker\":{\"size\":20,\"symbol\":\"circle\"},\"mode\":\"markers+text\",\"text\":[\"Layer 1\\u003cbr\\u003eUnit 8\"],\"textposition\":\"bottom center\",\"x\":[0],\"y\":[7],\"type\":\"scatter\"},{\"marker\":{\"size\":20,\"symbol\":\"circle\"},\"mode\":\"markers+text\",\"text\":[\"Layer 1\\u003cbr\\u003eUnit 9\"],\"textposition\":\"bottom center\",\"x\":[0],\"y\":[8],\"type\":\"scatter\"},{\"marker\":{\"size\":20,\"symbol\":\"circle\"},\"mode\":\"markers+text\",\"text\":[\"Layer 1\\u003cbr\\u003eUnit 10\"],\"textposition\":\"bottom center\",\"x\":[0],\"y\":[9],\"type\":\"scatter\"},{\"marker\":{\"size\":20,\"symbol\":\"circle\"},\"mode\":\"markers+text\",\"text\":[\"Layer 2\\u003cbr\\u003eUnit 1\"],\"textposition\":\"bottom center\",\"x\":[1],\"y\":[0],\"type\":\"scatter\"},{\"marker\":{\"size\":20,\"symbol\":\"circle\"},\"mode\":\"markers+text\",\"text\":[\"Layer 2\\u003cbr\\u003eUnit 2\"],\"textposition\":\"bottom center\",\"x\":[1],\"y\":[1],\"type\":\"scatter\"},{\"marker\":{\"size\":20,\"symbol\":\"circle\"},\"mode\":\"markers+text\",\"text\":[\"Layer 2\\u003cbr\\u003eUnit 3\"],\"textposition\":\"bottom center\",\"x\":[1],\"y\":[2],\"type\":\"scatter\"},{\"marker\":{\"size\":20,\"symbol\":\"circle\"},\"mode\":\"markers+text\",\"text\":[\"Layer 2\\u003cbr\\u003eUnit 4\"],\"textposition\":\"bottom center\",\"x\":[1],\"y\":[3],\"type\":\"scatter\"},{\"line\":{\"color\":\"black\"},\"mode\":\"lines\",\"x\":[0,1],\"y\":[0,0],\"type\":\"scatter\"},{\"line\":{\"color\":\"black\"},\"mode\":\"lines\",\"x\":[0,1],\"y\":[0,1],\"type\":\"scatter\"},{\"line\":{\"color\":\"black\"},\"mode\":\"lines\",\"x\":[0,1],\"y\":[0,2],\"type\":\"scatter\"},{\"line\":{\"color\":\"black\"},\"mode\":\"lines\",\"x\":[0,1],\"y\":[0,3],\"type\":\"scatter\"},{\"line\":{\"color\":\"black\"},\"mode\":\"lines\",\"x\":[0,1],\"y\":[0,4],\"type\":\"scatter\"},{\"line\":{\"color\":\"black\"},\"mode\":\"lines\",\"x\":[0,1],\"y\":[0,5],\"type\":\"scatter\"},{\"line\":{\"color\":\"black\"},\"mode\":\"lines\",\"x\":[0,1],\"y\":[0,6],\"type\":\"scatter\"},{\"line\":{\"color\":\"black\"},\"mode\":\"lines\",\"x\":[0,1],\"y\":[0,7],\"type\":\"scatter\"},{\"line\":{\"color\":\"black\"},\"mode\":\"lines\",\"x\":[0,1],\"y\":[0,8],\"type\":\"scatter\"},{\"line\":{\"color\":\"black\"},\"mode\":\"lines\",\"x\":[0,1],\"y\":[0,9],\"type\":\"scatter\"},{\"line\":{\"color\":\"black\"},\"mode\":\"lines\",\"x\":[0,1],\"y\":[1,0],\"type\":\"scatter\"},{\"line\":{\"color\":\"black\"},\"mode\":\"lines\",\"x\":[0,1],\"y\":[1,1],\"type\":\"scatter\"},{\"line\":{\"color\":\"black\"},\"mode\":\"lines\",\"x\":[0,1],\"y\":[1,2],\"type\":\"scatter\"},{\"line\":{\"color\":\"black\"},\"mode\":\"lines\",\"x\":[0,1],\"y\":[1,3],\"type\":\"scatter\"},{\"line\":{\"color\":\"black\"},\"mode\":\"lines\",\"x\":[0,1],\"y\":[1,4],\"type\":\"scatter\"},{\"line\":{\"color\":\"black\"},\"mode\":\"lines\",\"x\":[0,1],\"y\":[1,5],\"type\":\"scatter\"},{\"line\":{\"color\":\"black\"},\"mode\":\"lines\",\"x\":[0,1],\"y\":[1,6],\"type\":\"scatter\"},{\"line\":{\"color\":\"black\"},\"mode\":\"lines\",\"x\":[0,1],\"y\":[1,7],\"type\":\"scatter\"},{\"line\":{\"color\":\"black\"},\"mode\":\"lines\",\"x\":[0,1],\"y\":[1,8],\"type\":\"scatter\"},{\"line\":{\"color\":\"black\"},\"mode\":\"lines\",\"x\":[0,1],\"y\":[1,9],\"type\":\"scatter\"},{\"line\":{\"color\":\"black\"},\"mode\":\"lines\",\"x\":[0,1],\"y\":[2,0],\"type\":\"scatter\"},{\"line\":{\"color\":\"black\"},\"mode\":\"lines\",\"x\":[0,1],\"y\":[2,1],\"type\":\"scatter\"},{\"line\":{\"color\":\"black\"},\"mode\":\"lines\",\"x\":[0,1],\"y\":[2,2],\"type\":\"scatter\"},{\"line\":{\"color\":\"black\"},\"mode\":\"lines\",\"x\":[0,1],\"y\":[2,3],\"type\":\"scatter\"},{\"line\":{\"color\":\"black\"},\"mode\":\"lines\",\"x\":[0,1],\"y\":[2,4],\"type\":\"scatter\"},{\"line\":{\"color\":\"black\"},\"mode\":\"lines\",\"x\":[0,1],\"y\":[2,5],\"type\":\"scatter\"},{\"line\":{\"color\":\"black\"},\"mode\":\"lines\",\"x\":[0,1],\"y\":[2,6],\"type\":\"scatter\"},{\"line\":{\"color\":\"black\"},\"mode\":\"lines\",\"x\":[0,1],\"y\":[2,7],\"type\":\"scatter\"},{\"line\":{\"color\":\"black\"},\"mode\":\"lines\",\"x\":[0,1],\"y\":[2,8],\"type\":\"scatter\"},{\"line\":{\"color\":\"black\"},\"mode\":\"lines\",\"x\":[0,1],\"y\":[2,9],\"type\":\"scatter\"},{\"line\":{\"color\":\"black\"},\"mode\":\"lines\",\"x\":[0,1],\"y\":[3,0],\"type\":\"scatter\"},{\"line\":{\"color\":\"black\"},\"mode\":\"lines\",\"x\":[0,1],\"y\":[3,1],\"type\":\"scatter\"},{\"line\":{\"color\":\"black\"},\"mode\":\"lines\",\"x\":[0,1],\"y\":[3,2],\"type\":\"scatter\"},{\"line\":{\"color\":\"black\"},\"mode\":\"lines\",\"x\":[0,1],\"y\":[3,3],\"type\":\"scatter\"},{\"line\":{\"color\":\"black\"},\"mode\":\"lines\",\"x\":[0,1],\"y\":[3,4],\"type\":\"scatter\"},{\"line\":{\"color\":\"black\"},\"mode\":\"lines\",\"x\":[0,1],\"y\":[3,5],\"type\":\"scatter\"},{\"line\":{\"color\":\"black\"},\"mode\":\"lines\",\"x\":[0,1],\"y\":[3,6],\"type\":\"scatter\"},{\"line\":{\"color\":\"black\"},\"mode\":\"lines\",\"x\":[0,1],\"y\":[3,7],\"type\":\"scatter\"},{\"line\":{\"color\":\"black\"},\"mode\":\"lines\",\"x\":[0,1],\"y\":[3,8],\"type\":\"scatter\"},{\"line\":{\"color\":\"black\"},\"mode\":\"lines\",\"x\":[0,1],\"y\":[3,9],\"type\":\"scatter\"},{\"line\":{\"color\":\"black\"},\"mode\":\"lines\",\"x\":[0,1],\"y\":[4,0],\"type\":\"scatter\"},{\"line\":{\"color\":\"black\"},\"mode\":\"lines\",\"x\":[0,1],\"y\":[4,1],\"type\":\"scatter\"},{\"line\":{\"color\":\"black\"},\"mode\":\"lines\",\"x\":[0,1],\"y\":[4,2],\"type\":\"scatter\"},{\"line\":{\"color\":\"black\"},\"mode\":\"lines\",\"x\":[0,1],\"y\":[4,3],\"type\":\"scatter\"},{\"line\":{\"color\":\"black\"},\"mode\":\"lines\",\"x\":[0,1],\"y\":[4,4],\"type\":\"scatter\"},{\"line\":{\"color\":\"black\"},\"mode\":\"lines\",\"x\":[0,1],\"y\":[4,5],\"type\":\"scatter\"},{\"line\":{\"color\":\"black\"},\"mode\":\"lines\",\"x\":[0,1],\"y\":[4,6],\"type\":\"scatter\"},{\"line\":{\"color\":\"black\"},\"mode\":\"lines\",\"x\":[0,1],\"y\":[4,7],\"type\":\"scatter\"},{\"line\":{\"color\":\"black\"},\"mode\":\"lines\",\"x\":[0,1],\"y\":[4,8],\"type\":\"scatter\"},{\"line\":{\"color\":\"black\"},\"mode\":\"lines\",\"x\":[0,1],\"y\":[4,9],\"type\":\"scatter\"},{\"line\":{\"color\":\"black\"},\"mode\":\"lines\",\"x\":[0,1],\"y\":[5,0],\"type\":\"scatter\"},{\"line\":{\"color\":\"black\"},\"mode\":\"lines\",\"x\":[0,1],\"y\":[5,1],\"type\":\"scatter\"},{\"line\":{\"color\":\"black\"},\"mode\":\"lines\",\"x\":[0,1],\"y\":[5,2],\"type\":\"scatter\"},{\"line\":{\"color\":\"black\"},\"mode\":\"lines\",\"x\":[0,1],\"y\":[5,3],\"type\":\"scatter\"},{\"line\":{\"color\":\"black\"},\"mode\":\"lines\",\"x\":[0,1],\"y\":[5,4],\"type\":\"scatter\"},{\"line\":{\"color\":\"black\"},\"mode\":\"lines\",\"x\":[0,1],\"y\":[5,5],\"type\":\"scatter\"},{\"line\":{\"color\":\"black\"},\"mode\":\"lines\",\"x\":[0,1],\"y\":[5,6],\"type\":\"scatter\"},{\"line\":{\"color\":\"black\"},\"mode\":\"lines\",\"x\":[0,1],\"y\":[5,7],\"type\":\"scatter\"},{\"line\":{\"color\":\"black\"},\"mode\":\"lines\",\"x\":[0,1],\"y\":[5,8],\"type\":\"scatter\"},{\"line\":{\"color\":\"black\"},\"mode\":\"lines\",\"x\":[0,1],\"y\":[5,9],\"type\":\"scatter\"},{\"line\":{\"color\":\"black\"},\"mode\":\"lines\",\"x\":[0,1],\"y\":[6,0],\"type\":\"scatter\"},{\"line\":{\"color\":\"black\"},\"mode\":\"lines\",\"x\":[0,1],\"y\":[6,1],\"type\":\"scatter\"},{\"line\":{\"color\":\"black\"},\"mode\":\"lines\",\"x\":[0,1],\"y\":[6,2],\"type\":\"scatter\"},{\"line\":{\"color\":\"black\"},\"mode\":\"lines\",\"x\":[0,1],\"y\":[6,3],\"type\":\"scatter\"},{\"line\":{\"color\":\"black\"},\"mode\":\"lines\",\"x\":[0,1],\"y\":[6,4],\"type\":\"scatter\"},{\"line\":{\"color\":\"black\"},\"mode\":\"lines\",\"x\":[0,1],\"y\":[6,5],\"type\":\"scatter\"},{\"line\":{\"color\":\"black\"},\"mode\":\"lines\",\"x\":[0,1],\"y\":[6,6],\"type\":\"scatter\"},{\"line\":{\"color\":\"black\"},\"mode\":\"lines\",\"x\":[0,1],\"y\":[6,7],\"type\":\"scatter\"},{\"line\":{\"color\":\"black\"},\"mode\":\"lines\",\"x\":[0,1],\"y\":[6,8],\"type\":\"scatter\"},{\"line\":{\"color\":\"black\"},\"mode\":\"lines\",\"x\":[0,1],\"y\":[6,9],\"type\":\"scatter\"},{\"line\":{\"color\":\"black\"},\"mode\":\"lines\",\"x\":[0,1],\"y\":[7,0],\"type\":\"scatter\"},{\"line\":{\"color\":\"black\"},\"mode\":\"lines\",\"x\":[0,1],\"y\":[7,1],\"type\":\"scatter\"},{\"line\":{\"color\":\"black\"},\"mode\":\"lines\",\"x\":[0,1],\"y\":[7,2],\"type\":\"scatter\"},{\"line\":{\"color\":\"black\"},\"mode\":\"lines\",\"x\":[0,1],\"y\":[7,3],\"type\":\"scatter\"},{\"line\":{\"color\":\"black\"},\"mode\":\"lines\",\"x\":[0,1],\"y\":[7,4],\"type\":\"scatter\"},{\"line\":{\"color\":\"black\"},\"mode\":\"lines\",\"x\":[0,1],\"y\":[7,5],\"type\":\"scatter\"},{\"line\":{\"color\":\"black\"},\"mode\":\"lines\",\"x\":[0,1],\"y\":[7,6],\"type\":\"scatter\"},{\"line\":{\"color\":\"black\"},\"mode\":\"lines\",\"x\":[0,1],\"y\":[7,7],\"type\":\"scatter\"},{\"line\":{\"color\":\"black\"},\"mode\":\"lines\",\"x\":[0,1],\"y\":[7,8],\"type\":\"scatter\"},{\"line\":{\"color\":\"black\"},\"mode\":\"lines\",\"x\":[0,1],\"y\":[7,9],\"type\":\"scatter\"},{\"line\":{\"color\":\"black\"},\"mode\":\"lines\",\"x\":[0,1],\"y\":[8,0],\"type\":\"scatter\"},{\"line\":{\"color\":\"black\"},\"mode\":\"lines\",\"x\":[0,1],\"y\":[8,1],\"type\":\"scatter\"},{\"line\":{\"color\":\"black\"},\"mode\":\"lines\",\"x\":[0,1],\"y\":[8,2],\"type\":\"scatter\"},{\"line\":{\"color\":\"black\"},\"mode\":\"lines\",\"x\":[0,1],\"y\":[8,3],\"type\":\"scatter\"},{\"line\":{\"color\":\"black\"},\"mode\":\"lines\",\"x\":[0,1],\"y\":[8,4],\"type\":\"scatter\"},{\"line\":{\"color\":\"black\"},\"mode\":\"lines\",\"x\":[0,1],\"y\":[8,5],\"type\":\"scatter\"},{\"line\":{\"color\":\"black\"},\"mode\":\"lines\",\"x\":[0,1],\"y\":[8,6],\"type\":\"scatter\"},{\"line\":{\"color\":\"black\"},\"mode\":\"lines\",\"x\":[0,1],\"y\":[8,7],\"type\":\"scatter\"},{\"line\":{\"color\":\"black\"},\"mode\":\"lines\",\"x\":[0,1],\"y\":[8,8],\"type\":\"scatter\"},{\"line\":{\"color\":\"black\"},\"mode\":\"lines\",\"x\":[0,1],\"y\":[8,9],\"type\":\"scatter\"},{\"line\":{\"color\":\"black\"},\"mode\":\"lines\",\"x\":[0,1],\"y\":[9,0],\"type\":\"scatter\"},{\"line\":{\"color\":\"black\"},\"mode\":\"lines\",\"x\":[0,1],\"y\":[9,1],\"type\":\"scatter\"},{\"line\":{\"color\":\"black\"},\"mode\":\"lines\",\"x\":[0,1],\"y\":[9,2],\"type\":\"scatter\"},{\"line\":{\"color\":\"black\"},\"mode\":\"lines\",\"x\":[0,1],\"y\":[9,3],\"type\":\"scatter\"},{\"line\":{\"color\":\"black\"},\"mode\":\"lines\",\"x\":[0,1],\"y\":[9,4],\"type\":\"scatter\"},{\"line\":{\"color\":\"black\"},\"mode\":\"lines\",\"x\":[0,1],\"y\":[9,5],\"type\":\"scatter\"},{\"line\":{\"color\":\"black\"},\"mode\":\"lines\",\"x\":[0,1],\"y\":[9,6],\"type\":\"scatter\"},{\"line\":{\"color\":\"black\"},\"mode\":\"lines\",\"x\":[0,1],\"y\":[9,7],\"type\":\"scatter\"},{\"line\":{\"color\":\"black\"},\"mode\":\"lines\",\"x\":[0,1],\"y\":[9,8],\"type\":\"scatter\"},{\"line\":{\"color\":\"black\"},\"mode\":\"lines\",\"x\":[0,1],\"y\":[9,9],\"type\":\"scatter\"}],                        {\"template\":{\"data\":{\"histogram2dcontour\":[{\"type\":\"histogram2dcontour\",\"colorbar\":{\"outlinewidth\":0,\"ticks\":\"\"},\"colorscale\":[[0.0,\"#0d0887\"],[0.1111111111111111,\"#46039f\"],[0.2222222222222222,\"#7201a8\"],[0.3333333333333333,\"#9c179e\"],[0.4444444444444444,\"#bd3786\"],[0.5555555555555556,\"#d8576b\"],[0.6666666666666666,\"#ed7953\"],[0.7777777777777778,\"#fb9f3a\"],[0.8888888888888888,\"#fdca26\"],[1.0,\"#f0f921\"]]}],\"choropleth\":[{\"type\":\"choropleth\",\"colorbar\":{\"outlinewidth\":0,\"ticks\":\"\"}}],\"histogram2d\":[{\"type\":\"histogram2d\",\"colorbar\":{\"outlinewidth\":0,\"ticks\":\"\"},\"colorscale\":[[0.0,\"#0d0887\"],[0.1111111111111111,\"#46039f\"],[0.2222222222222222,\"#7201a8\"],[0.3333333333333333,\"#9c179e\"],[0.4444444444444444,\"#bd3786\"],[0.5555555555555556,\"#d8576b\"],[0.6666666666666666,\"#ed7953\"],[0.7777777777777778,\"#fb9f3a\"],[0.8888888888888888,\"#fdca26\"],[1.0,\"#f0f921\"]]}],\"heatmap\":[{\"type\":\"heatmap\",\"colorbar\":{\"outlinewidth\":0,\"ticks\":\"\"},\"colorscale\":[[0.0,\"#0d0887\"],[0.1111111111111111,\"#46039f\"],[0.2222222222222222,\"#7201a8\"],[0.3333333333333333,\"#9c179e\"],[0.4444444444444444,\"#bd3786\"],[0.5555555555555556,\"#d8576b\"],[0.6666666666666666,\"#ed7953\"],[0.7777777777777778,\"#fb9f3a\"],[0.8888888888888888,\"#fdca26\"],[1.0,\"#f0f921\"]]}],\"heatmapgl\":[{\"type\":\"heatmapgl\",\"colorbar\":{\"outlinewidth\":0,\"ticks\":\"\"},\"colorscale\":[[0.0,\"#0d0887\"],[0.1111111111111111,\"#46039f\"],[0.2222222222222222,\"#7201a8\"],[0.3333333333333333,\"#9c179e\"],[0.4444444444444444,\"#bd3786\"],[0.5555555555555556,\"#d8576b\"],[0.6666666666666666,\"#ed7953\"],[0.7777777777777778,\"#fb9f3a\"],[0.8888888888888888,\"#fdca26\"],[1.0,\"#f0f921\"]]}],\"contourcarpet\":[{\"type\":\"contourcarpet\",\"colorbar\":{\"outlinewidth\":0,\"ticks\":\"\"}}],\"contour\":[{\"type\":\"contour\",\"colorbar\":{\"outlinewidth\":0,\"ticks\":\"\"},\"colorscale\":[[0.0,\"#0d0887\"],[0.1111111111111111,\"#46039f\"],[0.2222222222222222,\"#7201a8\"],[0.3333333333333333,\"#9c179e\"],[0.4444444444444444,\"#bd3786\"],[0.5555555555555556,\"#d8576b\"],[0.6666666666666666,\"#ed7953\"],[0.7777777777777778,\"#fb9f3a\"],[0.8888888888888888,\"#fdca26\"],[1.0,\"#f0f921\"]]}],\"surface\":[{\"type\":\"surface\",\"colorbar\":{\"outlinewidth\":0,\"ticks\":\"\"},\"colorscale\":[[0.0,\"#0d0887\"],[0.1111111111111111,\"#46039f\"],[0.2222222222222222,\"#7201a8\"],[0.3333333333333333,\"#9c179e\"],[0.4444444444444444,\"#bd3786\"],[0.5555555555555556,\"#d8576b\"],[0.6666666666666666,\"#ed7953\"],[0.7777777777777778,\"#fb9f3a\"],[0.8888888888888888,\"#fdca26\"],[1.0,\"#f0f921\"]]}],\"mesh3d\":[{\"type\":\"mesh3d\",\"colorbar\":{\"outlinewidth\":0,\"ticks\":\"\"}}],\"scatter\":[{\"fillpattern\":{\"fillmode\":\"overlay\",\"size\":10,\"solidity\":0.2},\"type\":\"scatter\"}],\"parcoords\":[{\"type\":\"parcoords\",\"line\":{\"colorbar\":{\"outlinewidth\":0,\"ticks\":\"\"}}}],\"scatterpolargl\":[{\"type\":\"scatterpolargl\",\"marker\":{\"colorbar\":{\"outlinewidth\":0,\"ticks\":\"\"}}}],\"bar\":[{\"error_x\":{\"color\":\"#2a3f5f\"},\"error_y\":{\"color\":\"#2a3f5f\"},\"marker\":{\"line\":{\"color\":\"#E5ECF6\",\"width\":0.5},\"pattern\":{\"fillmode\":\"overlay\",\"size\":10,\"solidity\":0.2}},\"type\":\"bar\"}],\"scattergeo\":[{\"type\":\"scattergeo\",\"marker\":{\"colorbar\":{\"outlinewidth\":0,\"ticks\":\"\"}}}],\"scatterpolar\":[{\"type\":\"scatterpolar\",\"marker\":{\"colorbar\":{\"outlinewidth\":0,\"ticks\":\"\"}}}],\"histogram\":[{\"marker\":{\"pattern\":{\"fillmode\":\"overlay\",\"size\":10,\"solidity\":0.2}},\"type\":\"histogram\"}],\"scattergl\":[{\"type\":\"scattergl\",\"marker\":{\"colorbar\":{\"outlinewidth\":0,\"ticks\":\"\"}}}],\"scatter3d\":[{\"type\":\"scatter3d\",\"line\":{\"colorbar\":{\"outlinewidth\":0,\"ticks\":\"\"}},\"marker\":{\"colorbar\":{\"outlinewidth\":0,\"ticks\":\"\"}}}],\"scattermapbox\":[{\"type\":\"scattermapbox\",\"marker\":{\"colorbar\":{\"outlinewidth\":0,\"ticks\":\"\"}}}],\"scatterternary\":[{\"type\":\"scatterternary\",\"marker\":{\"colorbar\":{\"outlinewidth\":0,\"ticks\":\"\"}}}],\"scattercarpet\":[{\"type\":\"scattercarpet\",\"marker\":{\"colorbar\":{\"outlinewidth\":0,\"ticks\":\"\"}}}],\"carpet\":[{\"aaxis\":{\"endlinecolor\":\"#2a3f5f\",\"gridcolor\":\"white\",\"linecolor\":\"white\",\"minorgridcolor\":\"white\",\"startlinecolor\":\"#2a3f5f\"},\"baxis\":{\"endlinecolor\":\"#2a3f5f\",\"gridcolor\":\"white\",\"linecolor\":\"white\",\"minorgridcolor\":\"white\",\"startlinecolor\":\"#2a3f5f\"},\"type\":\"carpet\"}],\"table\":[{\"cells\":{\"fill\":{\"color\":\"#EBF0F8\"},\"line\":{\"color\":\"white\"}},\"header\":{\"fill\":{\"color\":\"#C8D4E3\"},\"line\":{\"color\":\"white\"}},\"type\":\"table\"}],\"barpolar\":[{\"marker\":{\"line\":{\"color\":\"#E5ECF6\",\"width\":0.5},\"pattern\":{\"fillmode\":\"overlay\",\"size\":10,\"solidity\":0.2}},\"type\":\"barpolar\"}],\"pie\":[{\"automargin\":true,\"type\":\"pie\"}]},\"layout\":{\"autotypenumbers\":\"strict\",\"colorway\":[\"#636efa\",\"#EF553B\",\"#00cc96\",\"#ab63fa\",\"#FFA15A\",\"#19d3f3\",\"#FF6692\",\"#B6E880\",\"#FF97FF\",\"#FECB52\"],\"font\":{\"color\":\"#2a3f5f\"},\"hovermode\":\"closest\",\"hoverlabel\":{\"align\":\"left\"},\"paper_bgcolor\":\"white\",\"plot_bgcolor\":\"#E5ECF6\",\"polar\":{\"bgcolor\":\"#E5ECF6\",\"angularaxis\":{\"gridcolor\":\"white\",\"linecolor\":\"white\",\"ticks\":\"\"},\"radialaxis\":{\"gridcolor\":\"white\",\"linecolor\":\"white\",\"ticks\":\"\"}},\"ternary\":{\"bgcolor\":\"#E5ECF6\",\"aaxis\":{\"gridcolor\":\"white\",\"linecolor\":\"white\",\"ticks\":\"\"},\"baxis\":{\"gridcolor\":\"white\",\"linecolor\":\"white\",\"ticks\":\"\"},\"caxis\":{\"gridcolor\":\"white\",\"linecolor\":\"white\",\"ticks\":\"\"}},\"coloraxis\":{\"colorbar\":{\"outlinewidth\":0,\"ticks\":\"\"}},\"colorscale\":{\"sequential\":[[0.0,\"#0d0887\"],[0.1111111111111111,\"#46039f\"],[0.2222222222222222,\"#7201a8\"],[0.3333333333333333,\"#9c179e\"],[0.4444444444444444,\"#bd3786\"],[0.5555555555555556,\"#d8576b\"],[0.6666666666666666,\"#ed7953\"],[0.7777777777777778,\"#fb9f3a\"],[0.8888888888888888,\"#fdca26\"],[1.0,\"#f0f921\"]],\"sequentialminus\":[[0.0,\"#0d0887\"],[0.1111111111111111,\"#46039f\"],[0.2222222222222222,\"#7201a8\"],[0.3333333333333333,\"#9c179e\"],[0.4444444444444444,\"#bd3786\"],[0.5555555555555556,\"#d8576b\"],[0.6666666666666666,\"#ed7953\"],[0.7777777777777778,\"#fb9f3a\"],[0.8888888888888888,\"#fdca26\"],[1.0,\"#f0f921\"]],\"diverging\":[[0,\"#8e0152\"],[0.1,\"#c51b7d\"],[0.2,\"#de77ae\"],[0.3,\"#f1b6da\"],[0.4,\"#fde0ef\"],[0.5,\"#f7f7f7\"],[0.6,\"#e6f5d0\"],[0.7,\"#b8e186\"],[0.8,\"#7fbc41\"],[0.9,\"#4d9221\"],[1,\"#276419\"]]},\"xaxis\":{\"gridcolor\":\"white\",\"linecolor\":\"white\",\"ticks\":\"\",\"title\":{\"standoff\":15},\"zerolinecolor\":\"white\",\"automargin\":true,\"zerolinewidth\":2},\"yaxis\":{\"gridcolor\":\"white\",\"linecolor\":\"white\",\"ticks\":\"\",\"title\":{\"standoff\":15},\"zerolinecolor\":\"white\",\"automargin\":true,\"zerolinewidth\":2},\"scene\":{\"xaxis\":{\"backgroundcolor\":\"#E5ECF6\",\"gridcolor\":\"white\",\"linecolor\":\"white\",\"showbackground\":true,\"ticks\":\"\",\"zerolinecolor\":\"white\",\"gridwidth\":2},\"yaxis\":{\"backgroundcolor\":\"#E5ECF6\",\"gridcolor\":\"white\",\"linecolor\":\"white\",\"showbackground\":true,\"ticks\":\"\",\"zerolinecolor\":\"white\",\"gridwidth\":2},\"zaxis\":{\"backgroundcolor\":\"#E5ECF6\",\"gridcolor\":\"white\",\"linecolor\":\"white\",\"showbackground\":true,\"ticks\":\"\",\"zerolinecolor\":\"white\",\"gridwidth\":2}},\"shapedefaults\":{\"line\":{\"color\":\"#2a3f5f\"}},\"annotationdefaults\":{\"arrowcolor\":\"#2a3f5f\",\"arrowhead\":0,\"arrowwidth\":1},\"geo\":{\"bgcolor\":\"white\",\"landcolor\":\"#E5ECF6\",\"subunitcolor\":\"white\",\"showland\":true,\"showlakes\":true,\"lakecolor\":\"white\"},\"title\":{\"x\":0.05},\"mapbox\":{\"style\":\"light\"}}},\"xaxis\":{\"tickvals\":[0,1],\"ticktext\":[\"Layer 1\",\"Layer 2\"]},\"title\":{\"text\":\"Neural Network Architecture Visualization\"},\"yaxis\":{\"title\":{\"text\":\"Units\"}}},                        {\"responsive\": true}                    ).then(function(){\n",
       "                            \n",
       "var gd = document.getElementById('a61868c2-1d86-463c-bdfe-89e0dca43132');\n",
       "var x = new MutationObserver(function (mutations, observer) {{\n",
       "        var display = window.getComputedStyle(gd).display;\n",
       "        if (!display || display === 'none') {{\n",
       "            console.log([gd, 'removed!']);\n",
       "            Plotly.purge(gd);\n",
       "            observer.disconnect();\n",
       "        }}\n",
       "}});\n",
       "\n",
       "// Listen for the removal of the full notebook cells\n",
       "var notebookContainer = gd.closest('#notebook-container');\n",
       "if (notebookContainer) {{\n",
       "    x.observe(notebookContainer, {childList: true});\n",
       "}}\n",
       "\n",
       "// Listen for the clearing of the current output cell\n",
       "var outputEl = gd.closest('.output');\n",
       "if (outputEl) {{\n",
       "    x.observe(outputEl, {childList: true});\n",
       "}}\n",
       "\n",
       "                        })                };                });            </script>        </div>"
      ]
     },
     "metadata": {},
     "output_type": "display_data"
    }
   ],
   "source": [
    "'''\n",
    "In this part, we import the necessary libraries. \n",
    "plotly.graph_objects is used for creating interactive plots, \n",
    "and we import Sequential and Dense from Keras to create a simple neural network.\n",
    "'''\n",
    "\n",
    "import plotly.graph_objects as go\n",
    "from tensorflow.keras.models import Sequential\n",
    "from tensorflow.keras.layers import Dense\n",
    "\n",
    "# Create a simple neural network model\n",
    "\n",
    "'''\n",
    "Here, we define a simple neural network with one hidden layer \n",
    "(Dense layer with 10 units and ReLU activation) and an output \n",
    "layer with 4 units and softmax activation.\n",
    "'''\n",
    "\n",
    "model = Sequential()\n",
    "model.add(Dense(10, input_dim=1, activation='relu'))\n",
    "model.add(Dense(4, activation='softmax'))\n",
    "\n",
    "# Get the model layers\n",
    "'''\n",
    "We extract the layers of the model. \n",
    "This list, layers, contains the information about each layer in the neural network.\n",
    "Nutshell, the layers of the model are extracted into a list called layers.\n",
    "'''\n",
    "\n",
    "layers = [layer for layer in model.layers]\n",
    "\n",
    "# Create a plotly figure\n",
    "'''\n",
    "We create a Plotly figure, which is the canvas for our plot.\n",
    "'''\n",
    "fig = go.Figure()\n",
    "\n",
    "# Add nodes for each layer\n",
    "'''\n",
    "In this loop, we add nodes (representing units) for each layer. \n",
    "Each node is a circle marker with a label indicating the layer and unit it represents.\n",
    "'''\n",
    "for i, layer in enumerate(layers):\n",
    "    for unit in range(layer.output_shape[1]):\n",
    "        fig.add_trace(go.Scatter(x=[i], y=[unit], mode='markers+text', text=[f'Layer {i+1}<br>Unit {unit+1}'],\n",
    "                                 textposition='bottom center', marker=dict(size=20, symbol='circle')))\n",
    "\n",
    "# Add edges connecting the nodes\n",
    "'''\n",
    "This loop adds edges (lines) connecting the nodes. \n",
    "Each line connects a unit in one layer to a unit in the next layer, \n",
    "creating a representation of the connections between units.\n",
    "'''\n",
    "for i in range(len(layers) - 1):\n",
    "    for unit1 in range(layers[i].output_shape[1]):\n",
    "        for unit2 in range(layers[i + 1].input_shape[1]):\n",
    "            fig.add_trace(go.Scatter(x=[i, i+1], y=[unit1, unit2], mode='lines', line=dict(color='black')))\n",
    "\n",
    "# Set layout options\n",
    "'''\n",
    "We set layout options, including the title and axis labels, to make the plot more informative.\n",
    "'''\n",
    "fig.update_layout(title='Neural Network Architecture Visualization',\n",
    "                  xaxis=dict(tickvals=list(range(len(layers))), ticktext=[f'Layer {i+1}' for i in range(len(layers))]),\n",
    "                  yaxis=dict(title='Units'))\n",
    "\n",
    "# Show the plot\n",
    "'''\n",
    "Finally, we display the interactive plot. \n",
    "This code creates an interactive visualization of the neural network architecture, \n",
    "where you can hover over nodes and connections for more information.\n",
    "'''\n",
    "fig.show()\n"
   ]
  },
  {
   "cell_type": "markdown",
   "id": "91797f59-4a2f-4536-82ca-802dde17b41e",
   "metadata": {},
   "source": [
    "## The data that plotly gives:"
   ]
  },
  {
   "attachments": {
    "ddf80d56-adf1-4379-bd4b-d6ea11673476.png": {
     "image/png": "[encoded data removed]"
    }
   },
   "cell_type": "markdown",
   "id": "2a3a1c45-c863-4d39-ae36-a4b9651b5e3b",
   "metadata": {},
   "source": [
    "![newplot (1).png](attachment:ddf80d56-adf1-4379-bd4b-d6ea11673476.png)"
   ]
  }
 ],
 "metadata": {
  "kernelspec": {
   "display_name": "Python 3 (ipykernel)",
   "language": "python",
   "name": "python3"
  },
  "language_info": {
   "codemirror_mode": {
    "name": "ipython",
    "version": 3
   },
   "file_extension": ".py",
   "mimetype": "text/x-python",
   "name": "python",
   "nbconvert_exporter": "python",
   "pygments_lexer": "ipython3",
   "version": "3.11.6"
  }
 },
 "nbformat": 4,
 "nbformat_minor": 5
}
